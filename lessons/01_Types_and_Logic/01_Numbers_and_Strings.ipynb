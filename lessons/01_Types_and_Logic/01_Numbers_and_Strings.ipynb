{
 "cells": [
  {
   "cell_type": "markdown",
   "metadata": {},
   "source": [
    "# Reminder about Notebooks\n",
    "\n",
    "Remember that this document is an executable notebook, and each \"paragraph\" is called a \"cell\". Here are some tips for cells: \n",
    "\n",
    "* Click in the cell to edit it. When the cell is editable, you will see a blue bar on the side and a blue outline around the cell.\n",
    "* Click on the  \"▶️\" in the upper left of a cell to run it.**. If it doesn't look like it does anything, look at the top of the screen to select a kernel. \n",
    "* or Hit SHIFT-ENTER to run a cell. You can also run a cell by hitting SHIFT-ENTER\n",
    "* Some operations on a cell, like moving it up or down, require it to be in \"Command Mode\". Hit the Esc key to enter command mode. The blue side \n",
    "  bar will stay, but the blue outline will disappear. \n",
    "* When a cell is active, there is a small menu in the upper right with more options. \n",
    "\n",
    "If you run a cell and it doesn't look like it is doing anything, look at the top of the Visual Studio window for a box that looks like: \n",
    "\n",
    "<center><img src=\"https://images.jointheleague.org/vscode/select_python.png\" width=\"600px\"></center>\n",
    "\n",
    "If you see this, you will want to click on t \"Pythyon Environments\" and then\n",
    "select an entry for a Python interpreter. It might look like \" .venv (Python\n",
    "3.11)\" or maybe \"★ Python 3.12\" or something like that. Select an interpreter\n",
    "and then re-run the code. "
   ]
  },
  {
   "cell_type": "markdown",
   "metadata": {},
   "source": [
    "# Variables and Datatypes\n",
    "\n",
    "In the lessons with Tina the Turtle you learned about variables. In this section\n",
    "we are going to explore variables in more detail. You've seen several \n",
    "different ways for declaring and assigning to a variable, such as: "
   ]
  },
  {
   "cell_type": "code",
   "execution_count": 1,
   "metadata": {},
   "outputs": [
    {
     "name": "stdout",
     "output_type": "stream",
     "text": [
      "Name: John, Age: 14, Bank Account: 159.99, Colors: ['red', 'blue', 'green']\n"
     ]
    }
   ],
   "source": [
    "# Run Me!\n",
    "# Assign to some variables. \n",
    "age = 14\n",
    "bank_account = 159.99\n",
    "name = \"John\"\n",
    "colors = [\"red\", \"blue\", \"green\"]\n",
    "\n",
    "print(f\"Name: {name}, Age: {age}, Bank Account: {bank_account}, Colors: {colors}\")"
   ]
  },
  {
   "cell_type": "markdown",
   "metadata": {},
   "source": [
    "## Types\n",
    "\n",
    "While all of these variables assignment have the  same form, the *type* of the variables are all different. We can find out \n",
    "what the type of the variable is with the ``type()`` function."
   ]
  },
  {
   "cell_type": "code",
   "execution_count": 2,
   "metadata": {},
   "outputs": [
    {
     "name": "stdout",
     "output_type": "stream",
     "text": [
      "Age   :  <class 'int'>\n",
      "Bank  :  <class 'float'>\n",
      "Name  :  <class 'str'>\n",
      "Colors:  <class 'list'>\n"
     ]
    }
   ],
   "source": [
    "# Run Me!\n",
    "\n",
    "print(\"Age   : \", type(age))\n",
    "print(\"Bank  : \", type(bank_account))\n",
    "print(\"Name  : \", type(name))\n",
    "print(\"Colors: \", type(colors))"
   ]
  },
  {
   "cell_type": "markdown",
   "metadata": {},
   "source": [
    "These types look a bit cryptic. Here is an explaination: \n",
    "\n",
    "* `int` is an integer, a number with no fraction part, like '3' \n",
    "* `float` is a \"floating point number\" which does have a fraction part, like '3.5'\n",
    "* `str` is a string, like a name. \n",
    "* `list` is a list. \n",
    "\n",
    "There are many other types in Python. Each variable has a type, and the type determines what the variable can do and how you use it. For instance, you can add two variables, but what it means to add variables depends on what the variable is. "
   ]
  },
  {
   "cell_type": "code",
   "execution_count": 3,
   "metadata": {},
   "outputs": [
    {
     "name": "stdout",
     "output_type": "stream",
     "text": [
      "a + b =  30\n",
      "a + b =  1020\n"
     ]
    }
   ],
   "source": [
    "# add type integers\n",
    "\n",
    "a = 10\n",
    "b = 20\n",
    "\n",
    "print(\"a + b = \", a + b)\n",
    "\n",
    "# add '10' to '20 as strings\n",
    "\n",
    "a = \"10\"\n",
    "b = \"20\"\n",
    "\n",
    "print(\"a + b = \", a + b) # Wait, what????\n"
   ]
  },
  {
   "cell_type": "markdown",
   "metadata": {},
   "source": [
    "When we add `10` and `20` as integers, we get `30`, as you'd expect. But if you add them as strings it just sticks them together! What if you add an integer to a string?"
   ]
  },
  {
   "cell_type": "code",
   "execution_count": 4,
   "metadata": {},
   "outputs": [
    {
     "ename": "TypeError",
     "evalue": "unsupported operand type(s) for +: 'int' and 'str'",
     "output_type": "error",
     "traceback": [
      "\u001b[0;31m---------------------------------------------------------------------------\u001b[0m",
      "\u001b[0;31mTypeError\u001b[0m                                 Traceback (most recent call last)",
      "Cell \u001b[0;32mIn[4], line 3\u001b[0m\n\u001b[1;32m      1\u001b[0m a \u001b[38;5;241m=\u001b[39m \u001b[38;5;241m10\u001b[39m\n\u001b[1;32m      2\u001b[0m b \u001b[38;5;241m=\u001b[39m \u001b[38;5;124m\"\u001b[39m\u001b[38;5;124m20\u001b[39m\u001b[38;5;124m\"\u001b[39m\n\u001b[0;32m----> 3\u001b[0m \u001b[38;5;28mprint\u001b[39m(\u001b[38;5;124m\"\u001b[39m\u001b[38;5;124ma + b = \u001b[39m\u001b[38;5;124m\"\u001b[39m, \u001b[43ma\u001b[49m\u001b[43m \u001b[49m\u001b[38;5;241;43m+\u001b[39;49m\u001b[43m \u001b[49m\u001b[43mb\u001b[49m)\n",
      "\u001b[0;31mTypeError\u001b[0m: unsupported operand type(s) for +: 'int' and 'str'"
     ]
    }
   ],
   "source": [
    "a = 10\n",
    "b = \"20\"\n",
    "print(\"a + b = \", a + b)"
   ]
  },
  {
   "cell_type": "markdown",
   "metadata": {},
   "source": [
    "Oh, that did not work, you can't add an integer to a string. But ... you can convert one to the other and then add them. To convert the variables, we will use `int()` and `str()`. ( Hmmm, the conversion functions have the same name as the type they convert to!)"
   ]
  },
  {
   "cell_type": "code",
   "execution_count": 5,
   "metadata": {},
   "outputs": [
    {
     "name": "stdout",
     "output_type": "stream",
     "text": [
      "30\n",
      "1020\n"
     ]
    }
   ],
   "source": [
    "a = 10\n",
    "b = \"20\"\n",
    "\n",
    "# Convert b to an integer, then add\n",
    "\n",
    "print( a + int(b))\n",
    "\n",
    "# Convert a to a string, then add\n",
    "\n",
    "print( str(a) + b)\n"
   ]
  },
  {
   "cell_type": "markdown",
   "metadata": {},
   "source": [
    "## Numbers\n",
    "\n",
    "\n",
    "Numbers seem really easy in Python; you just write numbers as you'd expect ... but there\n",
    "are two kinds: integers and floating point numbers. Floating point numbers have a decimal\n",
    "and integers don't.\n",
    "\n",
    "And, there are actually many ways to write these numbers. We can write integers in differnt bases. Here is\n",
    "four different ways to write the number `37`;\n",
    "\n",
    "* Decimal, base 10: 37\n",
    "* Octal, base 8: 0o45\n",
    "* Hexidecimal, base 16: 0x25\n",
    "* Binary, base 2: 0b100101\n",
    "\n",
    "When we count, we normally use decimal, base 10, and you may remember that when we write \n",
    "the number `237` that actually means:\n",
    "\n",
    "* 2 * 100 + ( where 100 is 10*10 or 10^2 )\n",
    "* 3 * 10 +\n",
    "* 7\n",
    "\n",
    "Octal, Hexadecimal and Binary work the same way, but using bases of 8, 16 or 2. So, \n",
    "we can decompose these numbers as:\n",
    "\n",
    "* Decimal 37 = 37 = (3*10 + 7)\n",
    "* Octal 37 = 0o45 = (4*8 + 5)\n",
    "* Hexadecimal 37  = 0x25 = (2*16 + 5)\n",
    "* Binary 37 = 0b100101 = (1*32 + 0*16 + 0*8 + 1)\n",
    "\n",
    "Different number bases can be a difficult topic, so if you would like some more\n",
    "explaination, Khan Academy has a few videos about number systems. \n",
    "\n",
    "* [Decimal and Binary](https://youtu.be/ku4KOFQ-bB4?si=PC9lZA_ZdXBilgsY)\n",
    "* [Hexadecimal](https://youtu.be/4EJay-6Bioo?si=vFOama4qPED81GZA)\n",
    "\n",
    "As a programmer, you will probably never use octal, but you'll occasionally use\n",
    "hexadecimal and binary. \n",
    "\n",
    "If you want to create these numbers, you can use the conversion functions ``oct()``, ``hex()`` and ``bin()``: "
   ]
  },
  {
   "cell_type": "code",
   "execution_count": null,
   "metadata": {},
   "outputs": [],
   "source": [
    "# Conversion functions\n",
    "\n",
    "print(oct(37))\n",
    "print(hex(37))\n",
    "print(bin(37))\n"
   ]
  },
  {
   "cell_type": "markdown",
   "metadata": {},
   "source": [
    "But what if you want to convert a string to a number? In that case you can use ``int()`` and ``float()``.\n"
   ]
  },
  {
   "cell_type": "code",
   "execution_count": null,
   "metadata": {},
   "outputs": [],
   "source": [
    "# String to integer and float\n",
    "\n",
    "print('int', int('1305'))\n",
    "print('int',float('1305.32'))\n",
    "\n",
    "# The int() function can also take a second argument, which is the base of the number to be converted.\n",
    "# so we can convert all of the other bases\n",
    "\n",
    "print('octal',int('45', 8))\n",
    "print('octal',int('0o45', 8))\n",
    "\n",
    "print('hex',int('25', 16))\n",
    "print('hex',int('0x25', 16))\n",
    "\n",
    "print('binary', int('100101', 2))\n",
    "print('binary', int('0b100101', 2))\n"
   ]
  },
  {
   "cell_type": "markdown",
   "metadata": {},
   "source": [
    "For really big numbers you can use scientific notation or '_' to seperate\n",
    "digits, like you would normally use commas. So, here are three ways to write 1\n",
    "million:\n",
    "\n",
    "* 1000000 \n",
    "* 1_000_000 \n",
    "* 1e6\n",
    "\n",
    "In the last one, scientific noation, the 'e' basically means the number of zeros, so ``1e6`` means \n",
    "`1 followed by 6 zeros` ( more correctly it means 1 * 10^6. ) \n",
    "\n",
    "\n",
    "### Operators\n",
    "\n",
    "Here are a few of the math operators that you can use on numbers. You've\n",
    "probably seen most of them, but there may be one or two surprises. \n",
    "\n",
    "| operator | description | example | result |\n",
    "|----------|-------------|---------|--------|\n",
    "| +        | addition    | 2 + 3   | 5      |\n",
    "| -        | subtraction | 5 - 2   | 3      |\n",
    "| *        | multiplication | 4 * 6 | 24     |\n",
    "| /        | division    | 11 / 4  | 2.75   |\n",
    "| //       | floor division (**aka integer division**) | 11 // 4 | 2 |\n",
    "| %        | modulo (**remainder**) | 11 % 4 | 3 |\n",
    "| **       | exponentiation (**power**) | 2 ** 3 | 8 |\n",
    "\n",
    "\n",
    "The floor division operator, `//`  divides the two numbers and then \n",
    "cuts off the decimal part, so you always get an integer. \n"
   ]
  },
  {
   "cell_type": "code",
   "execution_count": 6,
   "metadata": {},
   "outputs": [
    {
     "name": "stdout",
     "output_type": "stream",
     "text": [
      "3.3333333333333335\n",
      "3\n"
     ]
    }
   ],
   "source": [
    "# RUn Me\n",
    "# Floor division\n",
    "\n",
    "# Regular division will result in a float\n",
    "\n",
    "print(10 / 3)\n",
    "\n",
    "# But floor division is always an integer\n",
    "\n",
    "print(10 // 3)\n"
   ]
  },
  {
   "cell_type": "markdown",
   "metadata": {},
   "source": [
    "\n",
    "\n",
    "\n",
    "The modulo operator returns the remainder after the division. "
   ]
  },
  {
   "cell_type": "code",
   "execution_count": 7,
   "metadata": {},
   "outputs": [
    {
     "name": "stdout",
     "output_type": "stream",
     "text": [
      "9 % 3 ==  1\n",
      "10 % 3 ==  1\n",
      "11 % 3 ==  2\n",
      "12 % 3 ==  0\n"
     ]
    }
   ],
   "source": [
    "#Run Me\n",
    "\n",
    "# Modulo Operator\n",
    "\n",
    "print(\"9 % 3 == \" , 10 % 3 )\n",
    "print(\"10 % 3 == \" , 10 % 3 )\n",
    "print(\"11 % 3 == \" , 11 % 3 )\n",
    "print(\"12 % 3 == \" , 12 % 3 )"
   ]
  },
  {
   "cell_type": "markdown",
   "metadata": {},
   "source": [
    "An interesting thing about `//` and `%` is that they are related to each other;\n",
    "the two operators can \"take apart\" a number that you can put back with a simple\n",
    "equation. "
   ]
  },
  {
   "cell_type": "code",
   "execution_count": 8,
   "metadata": {},
   "outputs": [
    {
     "name": "stdout",
     "output_type": "stream",
     "text": [
      "11 % 3 == m ==  2\n",
      "11 // 3 == fd ==  3\n",
      "fd * b + m  == a ==  11\n"
     ]
    }
   ],
   "source": [
    "# Run \n",
    "\n",
    "\n",
    "a = 11\n",
    "b = 3\n",
    "\n",
    "m = a % b # Modulo\n",
    "fd = a // b # Floor division\n",
    "\n",
    "print(f\"{a} % {b} == m == \", m)\n",
    "print(f\"{a} // {b} == fd == \", a // b)\n",
    "\n",
    "print(\"fd * b + m  == a == \", fd * b + m)"
   ]
  },
  {
   "cell_type": "code",
   "execution_count": 9,
   "metadata": {},
   "outputs": [
    {
     "name": "stdout",
     "output_type": "stream",
     "text": [
      "0:i // 3 == 0  %3 == 0 | (0 // 3 * 3) + (0 % 3) == 0\n",
      "1:i // 3 == 0  %3 == 1 | (1 // 3 * 3) + (1 % 3) == 1\n",
      "2:i // 3 == 0  %3 == 2 | (2 // 3 * 3) + (2 % 3) == 2\n",
      "3:i // 3 == 1  %3 == 0 | (3 // 3 * 3) + (3 % 3) == 3\n",
      "4:i // 3 == 1  %3 == 1 | (4 // 3 * 3) + (4 % 3) == 4\n",
      "5:i // 3 == 1  %3 == 2 | (5 // 3 * 3) + (5 % 3) == 5\n",
      "6:i // 3 == 2  %3 == 0 | (6 // 3 * 3) + (6 % 3) == 6\n",
      "7:i // 3 == 2  %3 == 1 | (7 // 3 * 3) + (7 % 3) == 7\n",
      "8:i // 3 == 2  %3 == 2 | (8 // 3 * 3) + (8 % 3) == 8\n",
      "9:i // 3 == 3  %3 == 0 | (9 // 3 * 3) + (9 % 3) == 9\n",
      "10:i // 3 == 3  %3 == 1 | (10 // 3 * 3) + (10 % 3) == 10\n",
      "11:i // 3 == 3  %3 == 2 | (11 // 3 * 3) + (11 % 3) == 11\n"
     ]
    }
   ],
   "source": [
    "# Run Me!\n",
    "# Example of the Modulo Operator\n",
    "\n",
    "for i in range(12):\n",
    "    print(f\"{i}:i // 3 == {i // 3}  %3 == {i % 3} | ({i} // 3 * 3) + ({i} % 3) == {i // 3 * 3 + i % 3}\")"
   ]
  },
  {
   "cell_type": "markdown",
   "metadata": {},
   "source": [
    "Notice that the modulo operator works like a clock: the result goes around to\n",
    "the maximum number, then goes back to 0. \n",
    "\n",
    "The most important thing you will do with the modulo operator is check if a\n",
    "number is evenly divisible by another number, in which case the module value is\n",
    "0. So, 6 is evenly divisible by 3 because ``6 % 3 == 0``."
   ]
  },
  {
   "cell_type": "markdown",
   "metadata": {},
   "source": [
    "### Test yourself\n",
    "\n",
    "Write a program that computes how old you are by subtracting the current year from your birthday, but you have to start\n",
    "with those numbers as strings. Then print your age in decimal, hexadecimal, octal and binary. \n"
   ]
  },
  {
   "cell_type": "code",
   "execution_count": 12,
   "metadata": {},
   "outputs": [
    {
     "name": "stdout",
     "output_type": "stream",
     "text": [
      "You are  12.0  years old in decimal\n",
      "You are  Ellipsis  years old in hexadecimal\n"
     ]
    },
    {
     "data": {
      "text/plain": [
       "Ellipsis"
      ]
     },
     "execution_count": 12,
     "metadata": {},
     "output_type": "execute_result"
    }
   ],
   "source": [
    "# Test yourself\n",
    "\n",
    "current_year = '2025' # Change to the current year. \n",
    "birth_year = '2013' # Change to your birth year\n",
    "\n",
    "age = float(current_year) - float(birth_year) # Calculate the age\n",
    "\n",
    "print(\"You are \", age, \" years old in decimal\")\n",
    "\n",
    "print(\"You are \", ..., \" years old in hexadecimal\")\n",
    "... # Print the age in octal\n",
    "... # Print the age in binary\n",
    "... # Print the age modulo 3\n",
    "\n"
   ]
  },
  {
   "cell_type": "markdown",
   "metadata": {},
   "source": [
    "Write a program that starts with two variables:\n",
    "\n",
    "* `kids` the number of kids \n",
    "* `candy_bars` the number of candy bars\n",
    "\n",
    "You can set those variable to anythin you want. You program should calculate how\n",
    "to evenly distribute candy bar to the kids. Print out how many candy bard each\n",
    "kid gets, and how many are left over. "
   ]
  },
  {
   "cell_type": "code",
   "execution_count": null,
   "metadata": {},
   "outputs": [],
   "source": [
    "# Test yourself\n",
    "\n",
    "kids = ...\n",
    "candy_bars = ...\n",
    "\n",
    "candy_per_kid = ...  # Calculate the number of candy bars each kid gets\n",
    "print(\"Each kid gets \", candy_per_kid, \" candy bars\")\n",
    "\n",
    "candy_left_over = ...  # Calculate the number of candy bars left over\n",
    "print(\"There are \", candy_left_over, \" candy bars left over\")\n",
    "\n"
   ]
  },
  {
   "cell_type": "code",
   "execution_count": null,
   "metadata": {},
   "outputs": [],
   "source": [
    "# Run Me\n",
    "# Things to do with Strings\n",
    "\n",
    "a = 'Hello' # Define with single quotes\n",
    "b = \"World\" # Define with double quotes\n",
    "\n",
    "print(a + \" \" +b + '!') # Concatenate with + \n",
    "\n",
    "print(a * 3) # Repeat with *\n",
    "\n",
    "print(a[0]) # Indexing, get the first letter\n",
    "print(a[-1]) # Indexing, get the last letter\n",
    "\n",
    "num = 1234\n",
    "\n",
    "print(str(num)+ \" \" + str(num)) # Convert to a string\n",
    "\n",
    "print(f\"Embed a variable |{num}| in a string\") # Interpolation"
   ]
  },
  {
   "cell_type": "markdown",
   "metadata": {},
   "source": [
    "There are also many string methods, such as upper(), lower(), replace(), and split(). You should \n",
    "see the [Python Documentation](https://docs.python.org/3/library/stdtypes.html#text-sequence-type-str) to see all of them; here are just a few. \n"
   ]
  },
  {
   "cell_type": "code",
   "execution_count": null,
   "metadata": {},
   "outputs": [],
   "source": [
    "# Run Me!\n",
    "\n",
    "s = \"Hello World!\"\n",
    "\n",
    "print(s.lower()) # Lowercase\n",
    "print(s.upper()) # Uppercase\n",
    "print(s.title()) # Titlecase, capitlaize the first letter of each word\n",
    "\n",
    "print(s.replace('World', 'Python')) # Replace\n",
    "print(s.split()) # Split string at spaces\n",
    "\n",
    "print(s.startswith('Hello')) # Startswith, returns True\n",
    "print(s.startswith('Bogon')) # Startswith, returns False\n",
    "print(s.endswith('World!')) # Endswith\n",
    "\n",
    "s = \"   Hello World!   \"\n",
    "print(s.strip()) # Remove leading and trailing spaces\n",
    "\n",
    "\n"
   ]
  },
  {
   "cell_type": "markdown",
   "metadata": {},
   "source": [
    "### Test Yourself\n",
    "\n",
    "Write a program that has three variables, for \"hello\", your name, and a greeting\n",
    "like \"how are you?\". Combine the variables with spaces between them into one\n",
    "string, then capitalize each word and print out the result."
   ]
  },
  {
   "cell_type": "code",
   "execution_count": null,
   "metadata": {},
   "outputs": [],
   "source": [
    "# Test Yourself\n",
    "\n",
    "hello = ... # Define a string for hello\n",
    "name = ...  # Your name\n",
    "greet = ... # \n",
    "\n",
    "hello3 = ... # make your hello string repeat three times\n",
    "s = ... # Concatenate hello3, name and greet\n",
    "titled = ... # Make it title case\n",
    "\n",
    "print(titled) # Print the string"
   ]
  },
  {
   "cell_type": "markdown",
   "metadata": {},
   "source": [
    "## Check In Your Code\n",
    "\n",
    "Don't forget to check in your code. You can review how to check in your code,\n",
    "and how to restart your Codespace, in our [Code Check In Howto Guide.](https://curriculum.jointheleague.org/howto/checkin_restart.html)\n"
   ]
  },
  {
   "cell_type": "markdown",
   "metadata": {},
   "source": []
  }
 ],
 "metadata": {
  "kernelspec": {
   "display_name": ".venv",
   "language": "python",
   "name": "python3"
  },
  "language_info": {
   "codemirror_mode": {
    "name": "ipython",
    "version": 3
   },
   "file_extension": ".py",
   "mimetype": "text/x-python",
   "name": "python",
   "nbconvert_exporter": "python",
   "pygments_lexer": "ipython3",
   "version": "3.12.4"
  }
 },
 "nbformat": 4,
 "nbformat_minor": 2
}
