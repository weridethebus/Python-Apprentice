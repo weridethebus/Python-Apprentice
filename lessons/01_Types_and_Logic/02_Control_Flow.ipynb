{
 "cells": [
  {
   "cell_type": "markdown",
   "metadata": {},
   "source": [
    "# Control Flow\n",
    "\n",
    "Programs don't work very well if they can't make decisions, and we can make decisions with `if` instructions. \n",
    "You wil see these types of instruction called \"conditionals\" or \"control flow\" or \"branching.\" Here is an example: \n"
   ]
  },
  {
   "cell_type": "code",
   "execution_count": null,
   "metadata": {},
   "outputs": [],
   "source": [
    "# Conditionals \n",
    "\n",
    "a = 10\n",
    "\n",
    "if a == 11:\n",
    "    print(\"a is 11\")\n",
    "\n",
    "if a == 10:\n",
    "    print(\"a is 10\")\n",
    "\n",
    "if a < 20:\n",
    "    print(\"a is less than 20\")\n",
    "    "
   ]
  },
  {
   "cell_type": "markdown",
   "metadata": {},
   "source": [
    "In the  ``if`` staments above, it is imporant to understand what comes after the ``if``: an expression that evaluates to a boolean. \n",
    "\n",
    "* An 'expression' is a bit of code that when run is reduced to a value, like a string or an integer. \n",
    "* 'Evaluates' means that the cxode is being run to determin its value. \n",
    "* A 'Boolean' is a type of v laue that is either True or False. \n",
    "\n",
    "For instance, the code `5+3` is an expression that evaluates to `8`. Let's evaluate the conditional expressions in the code above: \n"
   ]
  },
  {
   "cell_type": "code",
   "execution_count": null,
   "metadata": {},
   "outputs": [],
   "source": [
    "# Evaluating boolean expressions. \n",
    "print(\"a == 11:\", a == 11)\n",
    "print(\"a == 10:\", a == 10)\n",
    "print(\"a < 20:\", a < 20)"
   ]
  },
  {
   "cell_type": "markdown",
   "metadata": {},
   "source": [
    "First thing to notice is that we use two equal signs for conditional\n",
    "expressions! You use one to assign a variable, and two to check if things are\n",
    "equal. So:\n",
    "\n",
    "* `a = 3` means \"Assign the value of 3 to a\"\n",
    "* `a == 3` means \"evaluate to `True` is a equal to 3\"\n",
    "\n",
    "Don't forget! This is a very common error. \n",
    "\n",
    "\n",
    "## Test Yourself\n",
    "\n",
    "Add code to determine if the statements in the comments are True or False"
   ]
  },
  {
   "cell_type": "code",
   "execution_count": 1,
   "metadata": {},
   "outputs": [
    {
     "name": "stdout",
     "output_type": "stream",
     "text": [
      "True\n"
     ]
    },
    {
     "data": {
      "text/plain": [
       "Ellipsis"
      ]
     },
     "execution_count": 1,
     "metadata": {},
     "output_type": "execute_result"
    }
   ],
   "source": [
    "# Test Yourself\n",
    "\n",
    "a = 10\n",
    "b = 15\n",
    "c = '30'\n",
    "s = 'hello world'\n",
    "\n",
    "\n",
    "# Is a equal to 10?\n",
    "\n",
    "print(a == 10)\n",
    "\n",
    "# Is b less than 20?\n",
    "\n",
    "...\n",
    "\n",
    "# Is c equal to the *integer* 30?\n",
    "\n",
    "...\n",
    "\n",
    "# Is c equal to the *string* '30'?\n",
    "\n",
    "...\n",
    "\n",
    "# Is a equal to b minus 5?\n",
    "\n",
    "...\n"
   ]
  },
  {
   "cell_type": "markdown",
   "metadata": {},
   "source": [
    "## And and Or\n",
    "\n",
    "What if you wanted to do something if a was equal to 10 but only if b was also equal to 15? In that case, you \n",
    "cause use the logical operators `and` and `or`. The `and` operator is ``True`` when both side of the operator are ``True`` and\n",
    "``or`` is ``True`` when either side is ``True``, so:\n",
    "\n",
    "```python \n",
    "\n",
    "True and True == True\n",
    "True and False == False\n",
    "False and False == False\n",
    "\n",
    "True or True == True\n",
    "True or False == True\n",
    "False or False == False\n",
    "\n",
    "```\n",
    "\n",
    "You'll probably never write code like that above ... but you night write:\n",
    "\n",
    "```python \n",
    "\n",
    "if a == 5 and s.startswith('hello'):\n",
    "    print(\"yeah!\")\n",
    "\n",
    "\n",
    "# or \n",
    "\n",
    "if time > \"11:30\" and time < \"12:30\":\n",
    "    print(\"Lunch time!\")\n",
    "\n",
    "\n",
    "# or\n",
    "\n",
    "if time < \"07:00\" or time > \"22:00\":\n",
    "    print(\"I am asleep\")\n",
    "```\n",
    "\n",
    "## Test Yourself\n"
   ]
  },
  {
   "cell_type": "code",
   "execution_count": null,
   "metadata": {},
   "outputs": [],
   "source": [
    "# Test Yourself\n",
    "\n",
    "a = 10\n",
    "b = 15\n",
    "c = '30'\n",
    "s = 'hello world'\n",
    "\n",
    "\n",
    "# set a_is_10 to be true if a is equal to 10\n",
    "\n",
    "a_is_10 = (a == 10)\n",
    "\n",
    "# Set last_is_world to be true if the last world in s is 'world'\n",
    "\n",
    "last_is_world = ...\n",
    "\n",
    "# set last_is_hello to be true if the last world in s is 'hello'\n",
    "\n",
    "last_is_hello = ...\n",
    "\n",
    "# if a is 10 and the last word in s is 'world' print 'success'\n",
    "\n",
    "if ...:\n",
    "    print(...)\n",
    "\n",
    "\n",
    "# If the integer value of c is 30 or b is evenly divisible by 5, print 'success'\n",
    "\n",
    "if ...:\n",
    "    print(...)\n",
    "\n",
    "\n"
   ]
  },
  {
   "cell_type": "markdown",
   "metadata": {},
   "source": [
    "# Else and Else if\n",
    "\n",
    "There is more that `If` statements can do. You can add additional clauses with `elif` and execute specific code if\n",
    "none of the `if` or `elif` blocks are ``True``. For instance: \n",
    "\n",
    "```python \n",
    "\n",
    "# Example of if-else\n",
    "\n",
    "if maybe_its_true:\n",
    "    # do this if maybe_its_true == True\n",
    "    ...\n",
    "else:\n",
    "    # do this if maybe_its_true == False\n",
    "    ...\n",
    "\n",
    "\n",
    "# Example of if-elif-else\n",
    "\n",
    "maybe_this = ... \n",
    "maybe_that = ...\n",
    "\n",
    "if maybe_this:\n",
    "    # do this if maybe_this_ == True\n",
    "    ...\n",
    "elif maybe_that:\n",
    "     # do this if maybe_this == False and maybe_that == True\n",
    "    ...\n",
    "else:\n",
    "    # do this if maybe_this == False and maybe_that == False\n",
    "    \n",
    "```\n",
    "\n",
    "\n",
    "## Test Yourself\n",
    "\n",
    "Write a program that sets a variable `fb` to a number, then write a conditional that\n",
    "\n",
    "* If the number is evenly divisible by 5, print 'fizz'\n",
    "* If the number is evenly divisible by 3, print 'buzz'\n",
    "* If it is divisible by neither, print the number\n",
    "\n",
    "Test your program with different values of fb. \n"
   ]
  },
  {
   "cell_type": "code",
   "execution_count": null,
   "metadata": {},
   "outputs": [],
   "source": [
    "# Test yourself\n",
    "\n",
    "fb = ...\n",
    "\n",
    "if ...:\n",
    "   print(...)\n",
    "\n",
    "elif ...:\n",
    "    ...\n",
    "    \n",
    "else:\n",
    "    ...\n",
    "\n"
   ]
  },
  {
   "cell_type": "markdown",
   "metadata": {},
   "source": [
    "Here is a common way of using `if`/`elif`/`else` blocks, to break a continuous\n",
    "value ( like the amount of water in a cup ) into categories. In this case, each\n",
    "category islarger than the one before it, so the program will only return the\n",
    "smallest category that is just larger than the limit. \n",
    "\n",
    "You might also use this method for converting an age into an age range. \n"
   ]
  },
  {
   "cell_type": "code",
   "execution_count": null,
   "metadata": {},
   "outputs": [],
   "source": [
    "def convert_ml_to_imperial(ml):\n",
    "    # Conversion values\n",
    "    teaspoon_ml = 4.92892\n",
    "    tablespoon_ml = 3 * teaspoon_ml\n",
    "    cup_ml = 16 * tablespoon_ml\n",
    "    pint_ml = 2 * cup_ml\n",
    "    quart_ml = 2 * pint_ml\n",
    "    gallon_ml = 4 * quart_ml\n",
    "\n",
    "    if ml <= teaspoon_ml:\n",
    "        print(f\"The next larger measure is: Teaspoon ({teaspoon_ml} ml)\")\n",
    "    elif ml <= tablespoon_ml:\n",
    "        print(f\"The next larger measure is: Tablespoon ({tablespoon_ml:.4f} ml)\")\n",
    "    elif ml <= cup_ml:\n",
    "        print(f\"The next larger measure is: Cup ({cup_ml:.3f} ml)\")\n",
    "    elif ml <= pint_ml:\n",
    "        print(f\"The next larger measure is: Pint ({pint_ml:.3f} ml)\")\n",
    "    elif ml <= quart_ml:\n",
    "        print(f\"The next larger measure is: Quart ({quart_ml:.3f} ml)\")\n",
    "    elif ml <= gallon_ml:\n",
    "        print(f\"The next larger measure is: Gallon ({gallon_ml:.2f} ml)\")\n",
    "    else:\n",
    "        print(\"The amount exceeds a gallon!\")\n",
    "\n",
    "# Ask the user for the amount of water in milliliters\n",
    "ml = float(input(\"Enter the amount of water in the cup (in ml): \"))\n",
    "\n",
    "# Call the function to get the Imperial measure\n",
    "convert_ml_to_imperial(ml)\n"
   ]
  },
  {
   "cell_type": "code",
   "execution_count": null,
   "metadata": {},
   "outputs": [],
   "source": []
  },
  {
   "cell_type": "markdown",
   "metadata": {},
   "source": []
  }
 ],
 "metadata": {
  "kernelspec": {
   "display_name": "Python 3",
   "language": "python",
   "name": "python3"
  },
  "language_info": {
   "codemirror_mode": {
    "name": "ipython",
    "version": 3
   },
   "file_extension": ".py",
   "mimetype": "text/x-python",
   "name": "python",
   "nbconvert_exporter": "python",
   "pygments_lexer": "ipython3",
   "version": "3.12.4"
  }
 },
 "nbformat": 4,
 "nbformat_minor": 2
}
