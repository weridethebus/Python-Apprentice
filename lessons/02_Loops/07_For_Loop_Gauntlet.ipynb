{
 "cells": [
  {
   "cell_type": "markdown",
   "id": "539e9340",
   "metadata": {},
   "source": [
    "# For Loop Gauntlet\n",
    "\n",
    "The goal of this assignment is to make you a master of utilizing for loops.\n",
    "Complete all the for loop challenges on the paper. please read each challenge\n",
    "carefully and make sure that your for loops display exactly what is asked. If\n",
    "you finish them all, try the bonus challenge.\n",
    "\n",
    "## Single for-loops\n",
    "\n",
    "Write a for loop to do each the following\n"
   ]
  },
  {
   "cell_type": "markdown",
   "id": "d0b568dc",
   "metadata": {
    "lines_to_next_cell": 0
   },
   "source": [
    "Display all numbers from 0 to 100  "
   ]
  },
  {
   "cell_type": "code",
   "execution_count": null,
   "id": "d0752dd4",
   "metadata": {
    "title": "[python]"
   },
   "outputs": [],
   "source": [
    "# Display all numbers from 0 to 100 \n",
    "\n",
    "for i in range (1, 101):\n",
    "    print(i)"
   ]
  },
  {
   "cell_type": "markdown",
   "id": "8b92e611",
   "metadata": {
    "lines_to_next_cell": 0
   },
   "source": [
    "Display all numbers from 100 to 0  "
   ]
  },
  {
   "cell_type": "code",
   "execution_count": null,
   "id": "aec8cf23",
   "metadata": {
    "title": "[python]"
   },
   "outputs": [],
   "source": [
    "# Display all numbers from 100 to 0 \n",
    "\n"
   ]
  },
  {
   "cell_type": "markdown",
   "id": "8942605e",
   "metadata": {
    "lines_to_next_cell": 0
   },
   "source": [
    "Display all even numbers from 2 to 100  "
   ]
  },
  {
   "cell_type": "code",
   "execution_count": null,
   "id": "ed3d8616",
   "metadata": {
    "lines_to_next_cell": 0,
    "title": "[python]"
   },
   "outputs": [],
   "source": [
    "# Display all even numbers from 2 to 100  \n"
   ]
  },
  {
   "cell_type": "markdown",
   "id": "c3501380",
   "metadata": {
    "lines_to_next_cell": 0
   },
   "source": [
    "Display all odd numbers from 1 to 99  "
   ]
  },
  {
   "cell_type": "code",
   "execution_count": null,
   "id": "038f48bf",
   "metadata": {
    "lines_to_next_cell": 0,
    "title": "[python]"
   },
   "outputs": [],
   "source": [
    "# Display all odd numbers from 1 to 99  "
   ]
  },
  {
   "cell_type": "markdown",
   "id": "f750c8e2",
   "metadata": {
    "lines_to_next_cell": 0
   },
   "source": [
    "Display all numbers from 1 to 40. if the number is odd, print \"odd\" next to the number. if the number is even, print \"even\" next to the number.  \n",
    "eg:  \n",
    " 1 is odd  \n",
    " 2 is even  \n",
    " 3 is odd  \n",
    " 4 is even  \n",
    " 5 is odd...etc.  \n",
    "\n"
   ]
  },
  {
   "cell_type": "code",
   "execution_count": null,
   "id": "174bdcd9",
   "metadata": {},
   "outputs": [],
   "source": [
    "# Display all numbers from 1 to 500."
   ]
  },
  {
   "cell_type": "markdown",
   "id": "969e00f1",
   "metadata": {},
   "source": [
    "Display all multiples of 7 from 0 to 70"
   ]
  },
  {
   "cell_type": "code",
   "execution_count": null,
   "id": "620b3886",
   "metadata": {
    "lines_to_next_cell": 0,
    "title": "[python]"
   },
   "outputs": [],
   "source": [
    "# Display all multiples of 7 from 0 to 777"
   ]
  },
  {
   "cell_type": "markdown",
   "id": "b468e701",
   "metadata": {
    "lines_to_next_cell": 0
   },
   "source": [
    "Print all the years you were alive and how old you were in each. e.g. \"in 1979, i was 2 years old.\" (for a really old person)  "
   ]
  },
  {
   "cell_type": "code",
   "execution_count": null,
   "id": "6db862fd",
   "metadata": {
    "lines_to_next_cell": 0,
    "title": "[python]"
   },
   "outputs": [],
   "source": [
    "# Your Code Here"
   ]
  },
  {
   "cell_type": "markdown",
   "id": "571b7e8d",
   "metadata": {
    "lines_to_next_cell": 0
   },
   "source": [
    "## Nested for-loops\n",
    "\n",
    "Write nested for loops (a for loop inside another for loop). Here is an example of nested loops. "
   ]
  },
  {
   "cell_type": "code",
   "execution_count": null,
   "id": "beb062f6",
   "metadata": {
    "lines_to_next_cell": 0,
    "title": "[python]"
   },
   "outputs": [],
   "source": [
    "# Examples of Nested Loops\n",
    "\n",
    "for i in range(8):\n",
    "    for j in range(8):\n",
    "        print(f\"({i},{j})\", end= ' ')\n",
    "    print()"
   ]
  },
  {
   "cell_type": "markdown",
   "id": "3605a476",
   "metadata": {
    "lines_to_next_cell": 0
   },
   "source": [
    "For your first nested loop, display this output:  \n",
    "\n",
    "```\n",
    "0  0  \n",
    "0  1  \n",
    "0  2  \n",
    "1  0  \n",
    "1  1  \n",
    "1  2  \n",
    "2  0  \n",
    "2  1  \n",
    "2  2\n",
    "```"
   ]
  },
  {
   "cell_type": "code",
   "execution_count": null,
   "id": "8c847ed3",
   "metadata": {
    "lines_to_next_cell": 0,
    "title": "[python]"
   },
   "outputs": [],
   "source": [
    "# Display the output shown above"
   ]
  },
  {
   "cell_type": "markdown",
   "id": "c6a9c592",
   "metadata": {
    "lines_to_next_cell": 0
   },
   "source": [
    "Display the numbers 1 through 9 in a 3x3 square grid like this:  \n",
    "\n",
    "```\n",
    "1  2  3  \n",
    "4  5  6  \n",
    "7  8  9  \n",
    "```"
   ]
  },
  {
   "cell_type": "code",
   "execution_count": null,
   "id": "bb0a4a5b",
   "metadata": {
    "lines_to_next_cell": 0,
    "title": "[python]"
   },
   "outputs": [],
   "source": [
    "# Display the numbers 1 through 9 in a 3x3 square grid"
   ]
  },
  {
   "cell_type": "markdown",
   "id": "3265fddb",
   "metadata": {
    "lines_to_next_cell": 0
   },
   "source": [
    "Display the numbers 1 through 100 in a 10x10 square grid.  "
   ]
  },
  {
   "cell_type": "code",
   "execution_count": null,
   "id": "ced82638",
   "metadata": {
    "lines_to_next_cell": 0,
    "title": "[python]"
   },
   "outputs": [],
   "source": [
    "# Display the numbers 1 through 100 in a 10x10 square grid. "
   ]
  },
  {
   "cell_type": "markdown",
   "id": "9434b500",
   "metadata": {
    "lines_to_next_cell": 2
   },
   "source": [
    "Display the following output:  \n",
    "\n",
    "```\n",
    "*  \n",
    "*  *  \n",
    "*  *  *  \n",
    "*  *  *  *  \n",
    "*  *  *  *  *  \n",
    "*  *  *  *  *  *\n",
    "```  "
   ]
  },
  {
   "cell_type": "code",
   "execution_count": null,
   "id": "3b81fd1e",
   "metadata": {},
   "outputs": [],
   "source": [
    "# Display the asterisk pattern shown above"
   ]
  },
  {
   "cell_type": "markdown",
   "id": "5a40192d",
   "metadata": {},
   "source": []
  }
 ],
 "metadata": {
  "jupytext": {
   "cell_metadata_filter": "title,-all",
   "main_language": "python",
   "notebook_metadata_filter": "-all"
  },
  "kernelspec": {
   "display_name": "Python 3 (ipykernel)",
   "language": "python",
   "name": "python3"
  },
  "language_info": {
   "codemirror_mode": {
    "name": "ipython",
    "version": 3
   },
   "file_extension": ".py",
   "mimetype": "text/x-python",
   "name": "python",
   "nbconvert_exporter": "python",
   "pygments_lexer": "ipython3",
   "version": "3.11.9"
  }
 },
 "nbformat": 4,
 "nbformat_minor": 5
}
