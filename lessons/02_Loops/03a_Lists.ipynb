{
 "cells": [
  {
   "cell_type": "markdown",
   "id": "5a4acb70",
   "metadata": {},
   "source": [
    "# First Look at Lists\n",
    "\n",
    "A list in Python is a lot like the lists that you already know about, like a grocery list:\n",
    "\n",
    "```\n",
    "Things To Buy\n",
    "  - apples\n",
    "  - oranges\n",
    "  - bread \n",
    "  - milk\n",
    "```\n",
    "\n",
    "But in Python we would write it like this: \n",
    "\n",
    "```python \n",
    "things_to_buy = [ 'apples','oranges','bread','milk']\n",
    "```\n",
    "\n",
    "The brackets, `[` and `]` are most often used to mean that something is a list. \n",
    "\n",
    "There are a lot of neat things we can do with a list.\n",
    "\n",
    "First, you can get a specific item from a list, using the `[]` with a number inside. \n"
   ]
  },
  {
   "cell_type": "code",
   "execution_count": null,
   "id": "9280847b",
   "metadata": {
    "lines_to_next_cell": 0
   },
   "outputs": [],
   "source": [
    "# Indexing a list\n",
    "\n",
    "things_to_buy = [ 'apples','oranges','bread','milk']\n",
    "\n",
    "a = things_to_buy[0]\n",
    "print(a)\n",
    "\n",
    "# Try changing the number in the [] and see what happens. "
   ]
  },
  {
   "cell_type": "markdown",
   "id": "c07ad6f5",
   "metadata": {},
   "source": [
    "\n",
    "Getting values out of a list like this is called \"indexing\".\n",
    "\n",
    "\n",
    "Like most programming languages, the first item in a list is 0, not 1, so if\n",
    "you wanted to get `apples` from the list, you would write `things_to_get[0]`\n",
    "\n",
    "Another important thing about lists is you can _iterate_ them, which means 'do\n",
    "something repeatedly'. Here is how we would print out all of the items in the\n",
    "list: \n"
   ]
  },
  {
   "cell_type": "markdown",
   "id": "2b5a515a",
   "metadata": {
    "lines_to_next_cell": 2
   },
   "source": [
    "## Using Lists\n",
    "\n",
    "Loops and lists could be very useful for our turtle programs. For instance, we could make a square with \n",
    "a different color on each side: \n",
    "\n",
    "```python\n",
    "import turtle\n",
    "tina = turtle.Turtle()\n",
    "tina.shape(\"turtle\")\n",
    "\n",
    "forward = 50\n",
    "left = 90\n",
    "colors = [ 'red', 'blue', 'black', 'orange']\n",
    "\n",
    "for color in colors:\n",
    "    tina.color(color)\n",
    "    tina.forward(forward)\n",
    "    tina.left(left)\n",
    "\n",
    "```\n",
    "\n",
    "Or, we could change the angle that tina turns: \n",
    "\n",
    "```python\n",
    "import turtle\n",
    "tina = turtle.Turtle()\n",
    "tina.shape(\"turtle\")\n",
    "\n",
    "forward = 50\n",
    "\n",
    "for left in [ 45, 60, 90, 45, -90, 60, 22 , -45, 90]:\n",
    "    tina.forward(forward)\n",
    "    tina.left(left)\n",
    "\n",
    "```\n",
    "\n",
    "\n",
    "Here is a way that we could change two variables at once, using array indexes:\n",
    "\n",
    "\n",
    "```python\n",
    "import turtle\n",
    "tina = turtle.Turtle()\n",
    "tina.shape(\"turtle\")\n",
    "\n",
    "forward = 50\n",
    "lefts = [ 45, -60, 90, 45, -90, 60, 22 , -45 ]\n",
    "colors = [ 'red', 'blue', 'black', 'orange', 'red', 'blue', 'black', 'orange']\n",
    "\n",
    "for  i in range(8):\n",
    "    left = lefts[i]\n",
    "    color = colors[i]\n",
    "\n",
    "    tina.color(color)\n",
    "    tina.forward(forward)\n",
    "    tina.left(left)\n",
    "\n",
    "```\n"
   ]
  },
  {
   "cell_type": "code",
   "execution_count": null,
   "id": "183089f2",
   "metadata": {
    "lines_to_next_cell": 2,
    "title": "[python]"
   },
   "outputs": [],
   "source": [
    "\n",
    "things_to_buy = [ 'apples','oranges','bread','milk']\n",
    " \n",
    "for item in things_to_buy:\n",
    "    print(item)"
   ]
  },
  {
   "cell_type": "markdown",
   "id": "bc85d21a",
   "metadata": {
    "lines_to_next_cell": 0
   },
   "source": [
    "# Iterating over Iterables\n",
    "\n",
    "Here is the first simple list that you learned about earlier. \n",
    "\n",
    "```python \n",
    "things_to_buy = [ 'apples','oranges','bread','milk']\n",
    "```\n",
    "\n",
    "This variable, `things_to_buy` is interesting, because it is a list of\n",
    "strings, but the strings are also a list, a list of letters. And in Python, \n",
    "lists and strings are a lot a like. So, let's learn more about them both. \n",
    "\n",
    "Both lists and strings are \"iterables\". Iteration means taking things one at a\n",
    "time, and \"iterating\" a list means that we will get the first thing in the\n",
    "list, then the second, and on, until there is nothing left in the list. We have\n",
    "seen iteration before, with loops. Here are two loops, \n",
    "one iterating over a list, and another iterating over a string. \n",
    "\n"
   ]
  },
  {
   "cell_type": "code",
   "execution_count": null,
   "id": "15a2f38b",
   "metadata": {
    "title": "[python]"
   },
   "outputs": [],
   "source": [
    "\n",
    "things_to_buy = [ 'apples','oranges','bread','milk']\n",
    " \n",
    "print(\"Things to buy:\")\n",
    "\n",
    "for things in things_to_buy:\n",
    "    print(things)\n",
    " \n",
    "\n",
    "print()\n",
    "for i in 'Hello WOrld':\n",
    "    print(i)\n"
   ]
  },
  {
   "cell_type": "markdown",
   "id": "65625cd0",
   "metadata": {
    "lines_to_next_cell": 0
   },
   "source": [
    "## Iterables\n",
    "\n",
    "The for loop, which looks like `for <variable> in <iterable>` works by taking\n",
    "each one of the things in the iterable, assigning it to the variable, then\n",
    "running the code in the body of the loop. \n",
    "\n",
    "But, then you wonder, what does the code we first used for loops do? The one\n",
    "with `range()` in it?\n",
    "\n",
    "Well, `range()` is an iterable! But it isn't a string or a list. It doesn't\n",
    "have anything in it. It just gives you the next number. And as we learned\n",
    "earlier, we can turn it into a list that does have things in it. Here is how: \n",
    "\n",
    "```python\n",
    "\n",
    "# Turn a range() into a list:\n",
    "\n",
    "l = list(range(5, 10))\n",
    "\n",
    "```\n",
    "\n",
    "When you put something inside `list()`, list will try to iterate the thing, and\n",
    "then take each item and put it into a list. A string, like 'Hello World' is not\n",
    "a list, but we can turn it into a list. \n",
    "\n"
   ]
  },
  {
   "cell_type": "code",
   "execution_count": null,
   "id": "d63d5efe",
   "metadata": {},
   "outputs": [],
   "source": [
    "\n",
    "# Turn a string into a list:\n",
    "\n",
    "l = list(\"Hello World!\")\n",
    "print(l)\n",
    "\n",
    "# That code above works the same as this code below:\n",
    "l = list()\n",
    "for c in \"Hello World!\":\n",
    "    l.append(c) # Adding to a list, more on this later\n",
    "\n",
    "print(l)\n",
    "\n"
   ]
  },
  {
   "cell_type": "markdown",
   "id": "d450eafd",
   "metadata": {},
   "source": [
    "There is another way to turn a string into a list, by breaking the string at a\n",
    "specific character using the `.split()` method."
   ]
  },
  {
   "cell_type": "code",
   "execution_count": null,
   "id": "9f82ddae",
   "metadata": {},
   "outputs": [],
   "source": [
    "# split a string at spaces, the default\n",
    "s = 'One Two Three Four'\n",
    "l = s.split()\n",
    "print(l)\n",
    "\n",
    "# split a string at the comma character\n",
    "s = 'One,Two,Three,Four'\n",
    "l = s.split(',')\n",
    "print(l)\n"
   ]
  },
  {
   "cell_type": "markdown",
   "id": "9f66003c",
   "metadata": {},
   "source": [
    "\n",
    "\n",
    "We'll learn more about how to work with lists later; right now we just want to\n",
    "show that it is an easy way to make a list. \n",
    "\n",
    "## Sorting\n",
    "\n",
    "Sorting, puting a list of items into a predictable order, is one of the most common\n",
    "tasks in a program, and like most other things, there is more than one way to do\n",
    "it. \n"
   ]
  },
  {
   "cell_type": "code",
   "execution_count": null,
   "id": "7bd259e4",
   "metadata": {},
   "outputs": [],
   "source": [
    "# Run me!\n",
    "l = list('adefibhgc')\n",
    "l.sort() # This sorts the list in place\n",
    "print(l)\n",
    "print()\n",
    "\n",
    "l = list('adefibhgc')\n",
    "sl = sorted(l) # This creates a new list & doesn't change the original\n",
    "print(sl)"
   ]
  },
  {
   "cell_type": "markdown",
   "id": "0578ffed",
   "metadata": {},
   "source": [
    "\n",
    "## Adding To Lists\n",
    "\n",
    "You can add items to lists with `.append()`, and concatenate lists ( put them\n",
    "together) with `+`:\n"
   ]
  },
  {
   "cell_type": "code",
   "execution_count": null,
   "id": "a6550d5f",
   "metadata": {
    "title": "[python]"
   },
   "outputs": [],
   "source": [
    "l = []\n",
    "\n",
    "# Add to the list using append\n",
    "l.append('item 1')\n",
    "l.append('item 2')\n",
    "l.append('item 3')\n",
    "\n",
    "# You can also use = with an empty list to create a new list\n",
    "l  = l + ['item 4', 'item 5']\n",
    "\n",
    "print(l)"
   ]
  },
  {
   "cell_type": "markdown",
   "id": "ee522118",
   "metadata": {
    "lines_to_next_cell": 0
   },
   "source": [
    "\n",
    "Try adding more items to the list!\n"
   ]
  },
  {
   "cell_type": "code",
   "execution_count": null,
   "id": "17a599ca",
   "metadata": {
    "title": "[python]"
   },
   "outputs": [],
   "source": [
    "# Try adding more items to the list l\n"
   ]
  },
  {
   "cell_type": "markdown",
   "id": "c8f4a193",
   "metadata": {},
   "source": [
    "## Test Yourself \n",
    "\n",
    "Show Us Your Lists!\n",
    "\n",
    "Now, you can write a program. Here is what your program should do. \n",
    "\n",
    "* Start with a string that has friend names, with spaces between the friend names, like\n",
    "this, but with real names: `'foo bar baz'`. Split the list into a string.\n",
    "* Ask the user for new friend names three times, and add those names to the list, using the `input()` function.\n",
    "* Sort the list\n",
    "* Print out each name on a seperate line. \n"
   ]
  },
  {
   "cell_type": "code",
   "execution_count": null,
   "id": "6c51bbf8",
   "metadata": {
    "title": "[python]"
   },
   "outputs": [],
   "source": [
    "# Test yourself\n",
    "\n",
    "# Here is how to get a name from the user.\n",
    "#     name = input(\"What is your friend's name? \")\n",
    "# Look at the ^^^^ top of the window ^^^ for the prompt\n",
    "\n"
   ]
  }
 ],
 "metadata": {
  "jupytext": {
   "cell_metadata_filter": "title,-all",
   "main_language": "python",
   "notebook_metadata_filter": "-all"
  },
  "kernelspec": {
   "display_name": ".venv",
   "language": "python",
   "name": "python3"
  },
  "language_info": {
   "codemirror_mode": {
    "name": "ipython",
    "version": 3
   },
   "file_extension": ".py",
   "mimetype": "text/x-python",
   "name": "python",
   "nbconvert_exporter": "python",
   "pygments_lexer": "ipython3",
   "version": "3.12.0"
  }
 },
 "nbformat": 4,
 "nbformat_minor": 5
}
